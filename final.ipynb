{
 "cells": [
  {
   "cell_type": "code",
   "execution_count": 228,
   "id": "85cdb083",
   "metadata": {
    "scrolled": true
   },
   "outputs": [
    {
     "name": "stdout",
     "output_type": "stream",
     "text": [
      "1x+6=0\n",
      "[1, 13, 11, 6, 12, 0]\n"
     ]
    }
   ],
   "source": [
    "import sys\n",
    "from tensorflow.python.keras.models import model_from_json\n",
    "json_file = open('model.json', 'r')\n",
    "\n",
    "loaded_model_json = json_file.read()\n",
    "json_file.close()\n",
    "loaded_model = model_from_json(loaded_model_json)\n",
    "# load weights into new model\n",
    "loaded_model.load_weights(\"model.h5\")\n",
    "import cv2\n",
    "import numpy as np\n",
    "img = cv2.imread('4.JPEG')\n",
    "import os\n",
    "root = os.getcwd()\n",
    "if img is not None:\n",
    "    #images.append(img)\n",
    "\n",
    "    train_data=[]\n",
    "    image = cv2.cvtColor(img, cv2.COLOR_BGR2RGB)\n",
    "    pixel_values = image.reshape((-1, 3))\n",
    "    \n",
    "    # convert to float\n",
    "    pixel_values = np.float32(pixel_values)\n",
    "    #K means with k=2\n",
    "    criteria = (cv2.TERM_CRITERIA_EPS + cv2.TERM_CRITERIA_MAX_ITER, 100, 0.2)\n",
    "    k = 2\n",
    "    _, labels, (centers) = cv2.kmeans(pixel_values, k, None,criteria, 10, cv2.KMEANS_RANDOM_CENTERS)\n",
    "    centers = np.uint8(centers)\n",
    "    centers2=np.uint8([[255,255,255],[0,0,0]])\n",
    "    # flatten the labels array\n",
    "    labels = labels.flatten()\n",
    "    segmented_image = centers2[labels.flatten()]\n",
    "    segmented_image = segmented_image.reshape(image.shape)\n",
    "    # show the image\n",
    "    if(segmented_image[0,0,0]!=0):\n",
    "        segmented_image=~segmented_image\n",
    "    img=segmented_image\n",
    "    flag=0\n",
    "    first=0\n",
    "    last=0\n",
    "    imglist=[]\n",
    "    flag2=0\n",
    "    firstfr=0\n",
    "    \n",
    "    #This for loop separates the segmented digits and operations\n",
    "    for i in range(img.shape[1]-6):\n",
    "        if np.sum(img[:,i,0])==0 :\n",
    "            if np.sum(img[:,firstfr+6,0])==0 :\n",
    "                flag2=0\n",
    "            if np.sum(img[:,firstfr+6,0])!=0 :\n",
    "                if flag==1:\n",
    "                    if np.sum(img[:,i+4,0])==0:\n",
    "                        last=i\n",
    "                        #cut here on right on middle +5\n",
    "                        imglist.append(img[:,first:last+2,:])\n",
    "                        first=i+2\n",
    "                        flag2=0\n",
    "                        flag=0\n",
    "\n",
    "                continue\n",
    "        if np.sum(img[:,i,0])!=0:\n",
    "            if flag2==0:\n",
    "                firstfr=i\n",
    "            flag2=1\n",
    "            flag=1\n",
    "            continue\n",
    "    #this for loop remove border black pixels to center the digits  \n",
    "    word =1 \n",
    "    letter_index = 0\n",
    "    for m in range(len(imglist)):       \n",
    "        var0=np.var(imglist[m][:,:,0],axis=0)\n",
    "        var1=np.var(imglist[m][:,:,0],axis=1)\n",
    "        #to not remove indices from middle(for ''='' case)\n",
    "        indices0=[i for i in list(range(len(var0))) if var0[i]==0]\n",
    "        indices1=[i for i in list(range(len(var1)-5)) if var1[i]==0 and np.sum(var1[i+5])==0]\n",
    "        temp0=imglist[m]\n",
    "        temp0=np.delete(temp0,indices0,axis=1)\n",
    "        temp0=np.delete(temp0,indices1,axis=0)\n",
    "        letter_index += 1\n",
    "        temp0=np.pad(temp0[:,:,0],pad_width=20,mode='constant',constant_values=0)\n",
    "        temp0=np.repeat(temp0[:,:,np.newaxis],3,axis=2)\n",
    "        element=cv2.getStructuringElement(cv2.MORPH_RECT,(2,2))\n",
    "        im2=temp0\n",
    "        for i in range(0, 1):\n",
    "            eroded = cv2.erode(temp0.copy(), element, iterations=i + 1)\n",
    "            im2=eroded\n",
    "            T, threshInv = cv2.threshold(eroded, 230, 0, cv2.THRESH_BINARY_INV)\n",
    "  \n",
    "\n",
    "        temp0 = im2[:,:,0]\n",
    "        im_resize = cv2.resize(temp0,(32,32))\n",
    "#         cv2.imwrite(os.path.join(root, str(i+1)+''+str(word)+''+str(letter_index)+'.jpg'),im_resize )\n",
    "        \n",
    "        im_resize=np.reshape(im_resize,(32,32,1))\n",
    "        train_data.append(im_resize)\n",
    "len(train_data)\n",
    "s=''\n",
    "x=[]\n",
    "for i in range(len(train_data)):\n",
    "    train_data[i]=np.array(train_data[i])\n",
    "    train_data[i]=train_data[i].reshape(1,32,32,1)\n",
    "#     result=loaded_model.predict_classes(train_data[i])\n",
    "    result=np.argmax(loaded_model.predict(train_data[i]), axis=-1)\n",
    "    if(result[0]==12):\n",
    "        t=12\n",
    "        x.append(t)\n",
    "        s=s+'='\n",
    "    if(result[0]==13):\n",
    "        t=13\n",
    "        x.append(t)\n",
    "        s=s+'x'\n",
    "    if(result[0]==14):\n",
    "        t=14\n",
    "        x.append(t)\n",
    "        s=s+'y'\n",
    "    if(result[0]==10):\n",
    "        t=10\n",
    "        x.append(t)\n",
    "        s=s+'-'\n",
    "    if(result[0]==11):\n",
    "        t=11\n",
    "        x.append(t)\n",
    "        s=s+'+'\n",
    "    if(result[0]==0):\n",
    "        t=0\n",
    "        x.append(t)\n",
    "        s=s+'0'\n",
    "    if(result[0]==1):\n",
    "        t=1\n",
    "        x.append(t)\n",
    "        s=s+'1'\n",
    "    if(result[0]==2):\n",
    "        t=2\n",
    "        x.append(t)\n",
    "        s=s+'2'\n",
    "    if(result[0]==3):\n",
    "        t=3\n",
    "        x.append(t)\n",
    "        s=s+'3'\n",
    "    if(result[0]==4):\n",
    "        t=4\n",
    "        x.append(t)\n",
    "        s=s+'4'\n",
    "    if(result[0]==5):\n",
    "        t=5\n",
    "        x.append(t)\n",
    "        s=s+'5'\n",
    "    if(result[0]==6):\n",
    "        t=6\n",
    "        x.append(t)\n",
    "        s=s+'6'\n",
    "    if(result[0]==7):\n",
    "        t=7\n",
    "        x.append(t)\n",
    "        s=s+'7'\n",
    "    if(result[0]==8):\n",
    "        t=8\n",
    "        x.append(t)\n",
    "        s=s+'8'\n",
    "    if(result[0]==9):\n",
    "        t=9\n",
    "        x.append(t)\n",
    "        s=s+'9'\n",
    "print(s)\n",
    "print(x)"
   ]
  },
  {
   "cell_type": "code",
   "execution_count": 229,
   "id": "5a9871a3",
   "metadata": {},
   "outputs": [],
   "source": [
    "import numpy as np\n",
    "from sympy import solve\n",
    "from sympy.plotting import plot"
   ]
  },
  {
   "cell_type": "code",
   "execution_count": 230,
   "id": "bd44e888",
   "metadata": {},
   "outputs": [],
   "source": [
    "#Mapping labels to their digits and operations\n",
    "import numpy as np\n",
    "\n",
    "# dic={0:0,1:1,2:2,3:3,4:4,5:5,6:6,7:7,8:8,9:9,10:'+',11:'-',12:'=',13:'x'}\n",
    "eqn=''\n",
    "dic={0:0,1:1,2:2,3:3,4:4,5:5,6:6,7:7,8:8,9:9,10:'-',11:'+',12:'=',13:'x',14:'y'}\n",
    "#print equation f\n",
    "def printEq(x):\n",
    "    t=''\n",
    "    flag=0\n",
    "    for i in range(len(x)):\n",
    "        \n",
    "        if flag==1:\n",
    "            flag=0\n",
    "            continue\n",
    "        if(x[i]==12):\n",
    "            break\n",
    "        if i!=len(x)-1 and dic[x[i]]=='x'and x[i+1]!=10 and x[i+1]!=11 and x[i+1]!=12:\n",
    "            t=t+'x**'+str(dic[x[i+1]])\n",
    "#             print('x**'+str(dic[x[i+1]]), end=\" \")\n",
    "            flag=1\n",
    "        elif i!=len(x)-1 and (0<=x[i]<=9 and x[i+1]==13 or x[i+1]==14):\n",
    "            t=t+str(dic[x[i]])+'*'\n",
    "        else :\n",
    "            t=t+str(dic[x[i]])\n",
    "#             print(dic[x[i]], end=\" \")\n",
    "    return t\n",
    "def solution(x):\n",
    "    eqn=printEq(x)\n",
    "    print(eqn)\n",
    "    print(solve(eqn))\n",
    "    plot(eqn)\n"
   ]
  },
  {
   "cell_type": "code",
   "execution_count": 231,
   "id": "c08ab94d",
   "metadata": {},
   "outputs": [
    {
     "name": "stdout",
     "output_type": "stream",
     "text": [
      "1*x+6\n",
      "[-6]\n"
     ]
    },
    {
     "data": {
      "image/png": "[encoded data removed]",
      "text/plain": [
       "<Figure size 432x288 with 1 Axes>"
      ]
     },
     "metadata": {
      "needs_background": "light"
     },
     "output_type": "display_data"
    }
   ],
   "source": [
    "solution(x)"
   ]
  },
  {
   "cell_type": "code",
   "execution_count": 232,
   "id": "db697691",
   "metadata": {},
   "outputs": [
    {
     "name": "stdout",
     "output_type": "stream",
     "text": [
      "\n"
     ]
    }
   ],
   "source": [
    "print(eqn)"
   ]
  },
  {
   "cell_type": "code",
   "execution_count": null,
   "id": "a44d43b2",
   "metadata": {},
   "outputs": [],
   "source": []
  },
  {
   "cell_type": "code",
   "execution_count": null,
   "id": "1349500b",
   "metadata": {},
   "outputs": [],
   "source": []
  }
 ],
 "metadata": {
  "kernelspec": {
   "display_name": "Python 3",
   "language": "python",
   "name": "python3"
  },
  "language_info": {
   "codemirror_mode": {
    "name": "ipython",
    "version": 3
   },
   "file_extension": ".py",
   "mimetype": "text/x-python",
   "name": "python",
   "nbconvert_exporter": "python",
   "pygments_lexer": "ipython3",
   "version": "3.8.8"
  }
 },
 "nbformat": 4,
 "nbformat_minor": 5
}
